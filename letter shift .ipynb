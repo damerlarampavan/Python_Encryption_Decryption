{
 "cells": [
  {
   "cell_type": "code",
   "execution_count": 4,
   "metadata": {},
   "outputs": [
    {
     "name": "stdout",
     "output_type": "stream",
     "text": [
      "enter the message format 1: hai\n",
      "enter yes or no for letter shift: no\n"
     ]
    },
    {
     "data": {
      "text/plain": [
       "'104 97 105'"
      ]
     },
     "execution_count": 4,
     "metadata": {},
     "output_type": "execute_result"
    }
   ],
   "source": [
    "#lettershift yes or no\n",
    "a=input(\"enter the message format 1: \")\n",
    "b=input(\"enter yes or no for letter shift: \")\n",
    "def lettershift(a,b):\n",
    "    if(b==\"yes\"):\n",
    "        m=[]\n",
    "        c=int(input(\"enter the key: \"))\n",
    "        for i in a:\n",
    "            d=ord(i)\n",
    "            e=d+c\n",
    "            f=str(e)\n",
    "            m.append(f)\n",
    "        n=\" \".join(m)\n",
    "        return n\n",
    "    else:\n",
    "        m=[]\n",
    "        for i in a:\n",
    "            d=ord(i)\n",
    "            f=str(d)\n",
    "            m.append(f)\n",
    "        n=\" \".join(m)\n",
    "        return n\n",
    "lettershift(a,b)"
   ]
  },
  {
   "cell_type": "code",
   "execution_count": null,
   "metadata": {},
   "outputs": [],
   "source": []
  }
 ],
 "metadata": {
  "kernelspec": {
   "display_name": "Python 3",
   "language": "python",
   "name": "python3"
  },
  "language_info": {
   "codemirror_mode": {
    "name": "ipython",
    "version": 3
   },
   "file_extension": ".py",
   "mimetype": "text/x-python",
   "name": "python",
   "nbconvert_exporter": "python",
   "pygments_lexer": "ipython3",
   "version": "3.6.5"
  }
 },
 "nbformat": 4,
 "nbformat_minor": 2
}
