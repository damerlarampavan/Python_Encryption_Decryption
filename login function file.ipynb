{
 "cells": [
  {
   "cell_type": "code",
   "execution_count": null,
   "metadata": {},
   "outputs": [],
   "source": [
    "def login():\n",
    "    b=open('a&p.txt','r')\n",
    "    c=input('enter username: ')\n",
    "    d=0\n",
    "    g=0\n",
    "    h=0\n",
    "    for zline in b:\n",
    "        g+=1\n",
    "        z=zline.split(\",\")\n",
    "        e=z[0].rstrip()\n",
    "        if(c==e):\n",
    "            h=g\n",
    "            d=1\n",
    "            break\n",
    "        else:\n",
    "            d=0\n",
    "    if(d):\n",
    "        f=open(\"a&p.txt\",'r')\n",
    "        g=input(\"enter password: \")\n",
    "        i=0\n",
    "        for yline in f:\n",
    "            y=yline.split(\",\")\n",
    "            x=y[1].rstrip()\n",
    "            k=str(x)\n",
    "            i+=1\n",
    "            if(i==h):\n",
    "                if(g==k):\n",
    "                        print(\"login accepted\")\n",
    "                elif(g!=k):\n",
    "                    j=2\n",
    "                    while(j):\n",
    "                        print(j,\"attempts remaining\")\n",
    "                        g=input(\"enter password: \")\n",
    "                        j-=1\n",
    "                        if(g==k):\n",
    "                            print(\"login accepted\")\n",
    "                            break\n",
    "                    else:\n",
    "                        print(\"try later\")\n",
    "                \n",
    "        f.close()\n",
    "    else:\n",
    "        print(\"account not found\")\n",
    "    b.close()\n",
    "    \n",
    "    \n",
    "login()"
   ]
  },
  {
   "cell_type": "code",
   "execution_count": null,
   "metadata": {},
   "outputs": [],
   "source": []
  }
 ],
 "metadata": {
  "kernelspec": {
   "display_name": "Python 3",
   "language": "python",
   "name": "python3"
  },
  "language_info": {
   "codemirror_mode": {
    "name": "ipython",
    "version": 3
   },
   "file_extension": ".py",
   "mimetype": "text/x-python",
   "name": "python",
   "nbconvert_exporter": "python",
   "pygments_lexer": "ipython3",
   "version": "3.6.5"
  }
 },
 "nbformat": 4,
 "nbformat_minor": 2
}
