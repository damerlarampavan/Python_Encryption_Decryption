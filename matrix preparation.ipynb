{
 "cells": [
  {
   "cell_type": "code",
   "execution_count": 3,
   "metadata": {},
   "outputs": [
    {
     "name": "stdout",
     "output_type": "stream",
     "text": [
      "m= 2\n",
      "n= 3\n",
      "enter any number: -9\n",
      "enter any number: 8\n",
      "enter any number: 6\n",
      "enter any number: 5\n",
      "enter any number: 0\n",
      "enter any number: -3\n",
      " -9  8  6\n",
      "  5  0 -3\n"
     ]
    }
   ],
   "source": [
    "a=int(input(\"m= \"))\n",
    "b=int(input(\"n= \"))\n",
    "c=[]\n",
    "for i in range(a):\n",
    "    d=[]\n",
    "    for j in range(b):\n",
    "        e=int(input(\"enter any number: \"))\n",
    "        d.append(e)\n",
    "    c.append(d)\n",
    "for i in c:\n",
    "    f=\"\"\n",
    "    for j in i:\n",
    "        g=str(j)\n",
    "        if(j>=0):\n",
    "            f+=\"  \"\n",
    "        else:\n",
    "            f+=\" \"\n",
    "        f+=g\n",
    "    print(f)"
   ]
  },
  {
   "cell_type": "code",
   "execution_count": null,
   "metadata": {},
   "outputs": [],
   "source": []
  }
 ],
 "metadata": {
  "kernelspec": {
   "display_name": "Python 3",
   "language": "python",
   "name": "python3"
  },
  "language_info": {
   "codemirror_mode": {
    "name": "ipython",
    "version": 3
   },
   "file_extension": ".py",
   "mimetype": "text/x-python",
   "name": "python",
   "nbconvert_exporter": "python",
   "pygments_lexer": "ipython3",
   "version": "3.6.5"
  }
 },
 "nbformat": 4,
 "nbformat_minor": 2
}
