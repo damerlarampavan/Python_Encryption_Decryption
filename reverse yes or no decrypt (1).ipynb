{
 "cells": [
  {
   "cell_type": "code",
   "execution_count": null,
   "metadata": {},
   "outputs": [],
   "source": [
    "#reverse decryption\n",
    "a=input(\"enter the message: \")\n",
    "b=input(\"enter yes or no: \")\n",
    "def reverse(a,b):\n",
    "    if(b==\"yes\"):\n",
    "        c=list(a)\n",
    "        d=reversed(c)\n",
    "        e=\"\".join(d)\n",
    "        return e\n",
    "    else:\n",
    "        return a\n",
    "reverse(a,b)"
   ]
  }
 ],
 "metadata": {
  "kernelspec": {
   "display_name": "Python 3",
   "language": "python",
   "name": "python3"
  },
  "language_info": {
   "codemirror_mode": {
    "name": "ipython",
    "version": 3
   },
   "file_extension": ".py",
   "mimetype": "text/x-python",
   "name": "python",
   "nbconvert_exporter": "python",
   "pygments_lexer": "ipython3",
   "version": "3.6.5"
  }
 },
 "nbformat": 4,
 "nbformat_minor": 2
}
