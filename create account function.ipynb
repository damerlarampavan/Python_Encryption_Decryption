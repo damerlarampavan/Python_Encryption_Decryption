{
 "cells": [
  {
   "cell_type": "code",
   "execution_count": 2,
   "metadata": {},
   "outputs": [
    {
     "name": "stdout",
     "output_type": "stream",
     "text": [
      "enter username: srikanth\n",
      "account already exists\n"
     ]
    }
   ],
   "source": [
    "def createaccount():\n",
    "    check=open(\"a&p.txt\",\"r\")\n",
    "    user=input(\"enter username: \")\n",
    "    d=0\n",
    "    for eline in check:\n",
    "        line=eline.split(\",\")\n",
    "        z=line[0].rstrip()\n",
    "        if(user!=z):\n",
    "            d=0\n",
    "        else:\n",
    "            d=1\n",
    "            break\n",
    "    if(d!=0):\n",
    "        print(\"account already exists\")\n",
    "    else:\n",
    "        file=open(\"a&p.txt\",\"a\")\n",
    "        g=input(\"enter password: \")\n",
    "        h=input(\"confirm password: \")\n",
    "        while(g!=h):\n",
    "            h=input(\"confirm password: \")\n",
    "        else:\n",
    "            file.write(\"\\n\")\n",
    "            file.write(user+\",\"+g)\n",
    "            print(\"account created\")\n",
    "        file.close()\n",
    "    check.close()\n",
    "\n",
    "\n",
    "createaccount()"
   ]
  },
  {
   "cell_type": "code",
   "execution_count": null,
   "metadata": {},
   "outputs": [],
   "source": []
  }
 ],
 "metadata": {
  "kernelspec": {
   "display_name": "Python 3",
   "language": "python",
   "name": "python3"
  },
  "language_info": {
   "codemirror_mode": {
    "name": "ipython",
    "version": 3
   },
   "file_extension": ".py",
   "mimetype": "text/x-python",
   "name": "python",
   "nbconvert_exporter": "python",
   "pygments_lexer": "ipython3",
   "version": "3.6.5"
  }
 },
 "nbformat": 4,
 "nbformat_minor": 2
}
