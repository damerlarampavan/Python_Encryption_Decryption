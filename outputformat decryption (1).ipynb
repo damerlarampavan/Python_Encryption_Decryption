{
 "cells": [
  {
   "cell_type": "code",
   "execution_count": null,
   "metadata": {},
   "outputs": [],
   "source": [
    "a=input(\"enter the last output: \")\n",
    "b=input(\"enter the format of output as format 1 or 2: \")\n",
    "def outputdecrypt(a,b):\n",
    "    if(b==\"type1\"):\n",
    "        c=[]\n",
    "        d=a.split(\" \")\n",
    "        for e in d:\n",
    "            f=int(e, 8)\n",
    "            g=str(f)\n",
    "            k=\"\"\n",
    "            for h in g:\n",
    "                j=int(h)\n",
    "                j-=1\n",
    "                k+=str(j)\n",
    "            c.append(k)\n",
    "        l=\" \".join(c)\n",
    "        m=list(l)\n",
    "        n=reversed(m)\n",
    "        o=\"\".join(n)\n",
    "        p=o.split(\" \")\n",
    "        t=[]\n",
    "        for q in p:\n",
    "            s=int(q, 2)\n",
    "            t.append(str(s))\n",
    "        u=\" \".join(t)\n",
    "        print(u)\n",
    "    else:\n",
    "        c=[]\n",
    "        d=a.split(\" \")\n",
    "        for e in d:\n",
    "            f=int(e, 2)\n",
    "            g=str(f)\n",
    "            k=\"\"\n",
    "            for h in g:\n",
    "                j=int(h)\n",
    "                j-=1\n",
    "                k+=str(j)\n",
    "            c.append(k)\n",
    "        l=\" \".join(c)\n",
    "        m=list(l)\n",
    "        n=reversed(m)\n",
    "        o=\"\".join(n)\n",
    "        p=o.split(\" \")\n",
    "        t=[]\n",
    "        for q in p:\n",
    "            s=int(q, 8)\n",
    "            t.append(str(s))\n",
    "        u=\" \".join(t)\n",
    "        print(u)\n",
    "\n",
    "outputdecrypt(a,b)"
   ]
  }
 ],
 "metadata": {
  "kernelspec": {
   "display_name": "Python 3",
   "language": "python",
   "name": "python3"
  },
  "language_info": {
   "codemirror_mode": {
    "name": "ipython",
    "version": 3
   },
   "file_extension": ".py",
   "mimetype": "text/x-python",
   "name": "python",
   "nbconvert_exporter": "python",
   "pygments_lexer": "ipython3",
   "version": "3.6.5"
  }
 },
 "nbformat": 4,
 "nbformat_minor": 2
}
