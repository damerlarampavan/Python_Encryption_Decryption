{
 "cells": [
  {
   "cell_type": "code",
   "execution_count": 3,
   "metadata": {},
   "outputs": [
    {
     "name": "stdout",
     "output_type": "stream",
     "text": [
      "enter the binary code: 106 99 107\n",
      "enter yes or no for lettershift: yes\n",
      "enter the key: 2\n"
     ]
    },
    {
     "data": {
      "text/plain": [
       "'hai'"
      ]
     },
     "execution_count": 3,
     "metadata": {},
     "output_type": "execute_result"
    }
   ],
   "source": [
    "a=input(\"enter the binary code: \")\n",
    "b=input(\"enter yes or no for lettershift: \")\n",
    "def letterdecrypt(a,b):\n",
    "    if(b==\"yes\"):\n",
    "        m=[]\n",
    "        c=int(input(\"enter the key: \"))\n",
    "        d=a.split(\" \")\n",
    "        for e in d:\n",
    "            f=int(e)\n",
    "            g=f-c\n",
    "            h=chr(g)\n",
    "            m.append(h)\n",
    "        n=\"\".join(m)\n",
    "        return n\n",
    "    else:\n",
    "        m=[]\n",
    "        d=a.split(\" \")\n",
    "        for e in d:\n",
    "            f=int(e)\n",
    "            h=chr(f)\n",
    "            m.append(h)\n",
    "        n=\"\".join(m)\n",
    "        return n\n",
    "letterdecrypt(a,b)"
   ]
  },
  {
   "cell_type": "code",
   "execution_count": null,
   "metadata": {},
   "outputs": [],
   "source": []
  }
 ],
 "metadata": {
  "kernelspec": {
   "display_name": "Python 3",
   "language": "python",
   "name": "python3"
  },
  "language_info": {
   "codemirror_mode": {
    "name": "ipython",
    "version": 3
   },
   "file_extension": ".py",
   "mimetype": "text/x-python",
   "name": "python",
   "nbconvert_exporter": "python",
   "pygments_lexer": "ipython3",
   "version": "3.6.5"
  }
 },
 "nbformat": 4,
 "nbformat_minor": 2
}
